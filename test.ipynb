{
 "cells": [
  {
   "cell_type": "code",
   "execution_count": 75,
   "metadata": {},
   "outputs": [],
   "source": [
    "strings = \"\"\"[active_1e-07_1e-07] Max: 0.05489159580351288, Min: -0.0789527763088731, Mean: 8.432619048261855e-06, Std: 0.0009480567916830886\n",
    "[vanilla_1e-07_1e-07] Max: 0.026069066173844357, Min: -0.11334065329814136, Mean: -1.0932805817292484e-05, Std: 0.0008294350185495314\n",
    "[active_1e-06_1e-06] Max: 0.03369183454792146, Min: -0.07141027437094227, Mean: -2.5157055880428343e-05, Std: 0.0011291761274422147\n",
    "[vanilla_1e-06_1e-06] Max: 0.03733894736774024, Min: -0.035733677973478595, Mean: 5.3143500525568335e-06, Std: 0.0005120541502020796\n",
    "[active_1e-05_1e-05] Max: 0.14514770359019918, Min: -0.12400080369661692, Mean: -4.083232811375996e-06, Std: 0.002884675155286072\n",
    "[vanilla_1e-05_1e-05] Max: 0.02461299612140011, Min: -0.05153169951411407, Mean: -1.0911959341023014e-05, Std: 0.0005086162400170097\n",
    "[active_0.0001_0.0001] Max: 0.06506434862759192, Min: -0.09778848307169763, Mean: 2.764886323499522e-05, Std: 0.0013113656985914578\n",
    "[vanilla_0.0001_0.0001] Max: 0.033068632407941834, Min: -0.059464081642153, Mean: 1.280713704165952e-07, Std: 0.0007986354944497903\n",
    "[active_0.001_0.001] Max: 0.16173127951515603, Min: -0.14380810119107834, Mean: 1.1743436403872626e-07, Std: 0.003274344270368919\n",
    "[vanilla_0.001_0.001] Max: 0.11257602337665373, Min: -0.07394906662226719, Mean: 3.5353680397440394e-05, Std: 0.0022224050419608348\n",
    "[active_0.01_0.01] Max: 0.36153504418531074, Min: -0.15263756340704626, Mean: 0.00043595531367361103, Std: 0.008916791287752272\n",
    "[vanilla_0.01_0.01] Max: 0.23832256543146713, Min: -0.2568421254206017, Mean: -3.957222766189123e-05, Std: 0.008795529765347082\n",
    "[active_0.1_0.1] Max: 0.8624365776137463, Min: -0.41627856581712375, Mean: 0.00014468614193450784, Std: 0.041537891241344695\n",
    "[vanilla_0.1_0.1] Max: 0.6098653163487219, Min: -0.9818059177080949, Mean: 0.0031704077388801854, Std: 0.04329549955313515\n",
    "[active_0.5_0.5] Max: 1.21326299976693, Min: -1.0666834278758124, Mean: -0.005995717982989122, Std: 0.13627540203540203\n",
    "[vanilla_0.5_0.5] Max: 1.5924431531205478, Min: -1.302889148119236, Mean: 0.003441133019376303, Std: 0.1430152489467179\n",
    "[active_1_1] Max: 1.6035329367595028, Min: -2.2839485474114998, Mean: 0.03449648059805819, Std: 0.28313309509539336\n",
    "[vanilla_1_1] Max: 1.7183126549244532, Min: -2.22410801738267, Mean: -0.024207080666774294, Std: 0.24932651583020624\n",
    "[active_0_0.05] Max: 0.3042744538481388, Min: -0.16679910658426722, Mean: 0.0001315423881024181, Std: 0.013000527862114197\n",
    "[vanilla_0_0.05] Max: 0.49126341238487603, Min: -0.21225987709886796, Mean: 0.0007447814429130786, Std: 0.015822038224380955\n",
    "[active_0.05_1e-07] Max: 4.370746538964516, Min: -3.989531919133141, Mean: 0.11970819188699997, Std: 1.078196930503834\n",
    "[vanilla_0.05_1e-07] Max: 4.062363312569863, Min: -4.0140160766953965, Mean: -0.03487927233715204, Std: 1.075333271511635\n",
    "\"\"\""
   ]
  },
  {
   "cell_type": "code",
   "execution_count": 76,
   "metadata": {},
   "outputs": [],
   "source": [
    "res_dict = {}\n",
    "\n",
    "for line in strings.split(\"\\n\"):\n",
    "    if not line:\n",
    "        continue\n",
    "    name = line.split(\" \")[0][1:-1]\n",
    "\n",
    "    noise = float(name.split(\"_\")[1])\n",
    "    gp_noise = float(name.split(\"_\")[2])\n",
    "    type_sample = name.split(\"_\")[0]\n",
    "\n",
    "    avg = float(line.split(\",\")[2].split(\": \")[1])\n",
    "    std = float(line.split(\",\")[3].split(\": \")[1])\n",
    "\n",
    "    if (noise, gp_noise) not in res_dict:\n",
    "        res_dict[(noise, gp_noise)] = {}\n",
    "    res_dict[(noise, gp_noise)][type_sample] = (avg, std)"
   ]
  },
  {
   "cell_type": "code",
   "execution_count": 77,
   "metadata": {},
   "outputs": [],
   "source": [
    "def float_to_latex_string(f, decimal_places=2):\n",
    "    # # $x.xx\\mathrm{e}{x}$\n",
    "    # f = \"{:.2e}\".format(f)\n",
    "    f = (\"{:.\" + str(decimal_places) + \"e}\").format(f)\n",
    "    return f\"${f[:-4]}\" + r\"\\mathrm{e}{-\" + f\"{f[-1]}\" + r\"}$\""
   ]
  },
  {
   "cell_type": "code",
   "execution_count": null,
   "metadata": {},
   "outputs": [
    {
     "name": "stdout",
     "output_type": "stream",
     "text": [
      "$1\\mathrm{e}{-7}$ & $1\\mathrm{e}{-7}$ & $-1.09\\mathrm{e}{-5}$ & $8.29\\mathrm{e}{-4}$ & $8.43\\mathrm{e}{-6}$ & $9.48\\mathrm{e}{-4}$ & \\\\\n",
      "$1\\mathrm{e}{-6}$ & $1\\mathrm{e}{-6}$ & $5.31\\mathrm{e}{-6}$ & $5.12\\mathrm{e}{-4}$ & $-2.52\\mathrm{e}{-5}$ & $1.13\\mathrm{e}{-3}$ & \\\\\n",
      "$1\\mathrm{e}{-5}$ & $1\\mathrm{e}{-5}$ & $-1.09\\mathrm{e}{-5}$ & $5.09\\mathrm{e}{-4}$ & $-4.08\\mathrm{e}{-6}$ & $2.88\\mathrm{e}{-3}$ & \\\\\n",
      "$1\\mathrm{e}{-4}$ & $1\\mathrm{e}{-4}$ & $1.28\\mathrm{e}{-7}$ & $7.99\\mathrm{e}{-4}$ & $2.76\\mathrm{e}{-5}$ & $1.31\\mathrm{e}{-3}$ & \\\\\n",
      "$1\\mathrm{e}{-3}$ & $1\\mathrm{e}{-3}$ & $3.54\\mathrm{e}{-5}$ & $2.22\\mathrm{e}{-3}$ & $1.17\\mathrm{e}{-7}$ & $3.27\\mathrm{e}{-3}$ & \\\\\n",
      "$1\\mathrm{e}{-2}$ & $1\\mathrm{e}{-2}$ & $-3.96\\mathrm{e}{-5}$ & $8.80\\mathrm{e}{-3}$ & $4.36\\mathrm{e}{-4}$ & $8.92\\mathrm{e}{-3}$ & \\\\\n",
      "$1\\mathrm{e}{-1}$ & $1\\mathrm{e}{-1}$ & $3.17\\mathrm{e}{-3}$ & $4.33\\mathrm{e}{-2}$ & $1.45\\mathrm{e}{-4}$ & $4.15\\mathrm{e}{-2}$ & \\\\\n",
      "$5\\mathrm{e}{-1}$ & $5\\mathrm{e}{-1}$ & $3.44\\mathrm{e}{-3}$ & $1.43\\mathrm{e}{-1}$ & $-6.00\\mathrm{e}{-3}$ & $1.36\\mathrm{e}{-1}$ & \\\\\n",
      "$1\\mathrm{e}{-0}$ & $1\\mathrm{e}{-0}$ & $-2.42\\mathrm{e}{-2}$ & $2.49\\mathrm{e}{-1}$ & $3.45\\mathrm{e}{-2}$ & $2.83\\mathrm{e}{-1}$ & \\\\\n",
      "$0\\mathrm{e}{-0}$ & $5\\mathrm{e}{-2}$ & $7.45\\mathrm{e}{-4}$ & $1.58\\mathrm{e}{-2}$ & $1.32\\mathrm{e}{-4}$ & $1.30\\mathrm{e}{-2}$ & \\\\\n",
      "$5\\mathrm{e}{-2}$ & $1\\mathrm{e}{-7}$ & $-3.49\\mathrm{e}{-2}$ & $1.08\\mathrm{e}{-0}$ & $1.20\\mathrm{e}{-1}$ & $1.08\\mathrm{e}{-0}$ & \\\\\n"
     ]
    }
   ],
   "source": [
    "for key in res_dict:\n",
    "    #  $1\\mathrm{e}{-2}$ & $1\\mathrm{e}{-2}$ & $\\mathrm{e}{-}$ & $\\mathrm{e}{-}$ & $\\mathrm{e}{-}$ & $\\mathrm{e}{-}$ \\\\\n",
    "    print(\n",
    "        f\"{float_to_latex_string(key[0], 0)} & {float_to_latex_string(key[1], 0)} & \",\n",
    "        end=\"\",\n",
    "    )\n",
    "    for type_sample in [\"vanilla\", \"active\"]:\n",
    "        avg, std = res_dict[key][type_sample]\n",
    "        print(f\"{float_to_latex_string(avg)} & {float_to_latex_string(std)} & \", end=\"\")\n",
    "    print(\"\\\\\\\\\")"
   ]
  },
  {
   "cell_type": "code",
   "execution_count": 86,
   "metadata": {},
   "outputs": [
    {
     "name": "stdout",
     "output_type": "stream",
     "text": [
      "8.432619048261855e-06\n",
      "8.432619048261855e-06\n",
      "8.432619048261855e-06\n",
      "---\n",
      "-2.5157055880428343e-05\n",
      "-1.6724436832166486e-05\n",
      "-8.362218416083243e-06\n",
      "---\n",
      "-4.083232811375996e-06\n",
      "-2.0807669643542483e-05\n",
      "-6.935889881180828e-06\n",
      "---\n",
      "2.764886323499522e-05\n",
      "6.841193591452738e-06\n",
      "1.7102983978631846e-06\n",
      "---\n",
      "1.1743436403872626e-07\n",
      "6.958627955491464e-06\n",
      "1.3917255910982928e-06\n",
      "---\n",
      "0.00043595531367361103\n",
      "0.0004429139416291025\n",
      "7.381899027151708e-05\n",
      "---\n",
      "0.00014468614193450784\n",
      "0.0005876000835636103\n",
      "8.394286908051575e-05\n",
      "---\n",
      "-0.005995717982989122\n",
      "-0.005408117899425511\n",
      "-0.0006760147374281889\n",
      "---\n",
      "0.03449648059805819\n",
      "0.02908836269863268\n",
      "0.0032320402998480754\n",
      "---\n",
      "Average active avg: 0.0032320402998480754\n",
      "Average active std: 0.05326786641147379\n",
      "Average vanilla avg: -0.0019573511999463997\n",
      "Average vanilla std: 0.04992266000450951\n"
     ]
    }
   ],
   "source": [
    "average_active_avg = []\n",
    "average_active_std = []\n",
    "average_vanilla_avg = []\n",
    "average_vanilla_std = []\n",
    "\n",
    "for key in res_dict:\n",
    "    if key[0] != key[1]:\n",
    "        continue\n",
    "    average_active_avg.append(res_dict[key][\"active\"][0])\n",
    "    average_active_std.append(res_dict[key][\"active\"][1])\n",
    "    average_vanilla_avg.append(res_dict[key][\"vanilla\"][0])\n",
    "    average_vanilla_std.append(res_dict[key][\"vanilla\"][1])\n",
    "    \n",
    "    print(res_dict[key][\"active\"][0])\n",
    "    print(sum(average_active_avg))\n",
    "    print(sum(average_active_avg) / len(average_active_avg))\n",
    "    print(\"---\")\n",
    "    \n",
    "print(f\"Average active avg: {sum(average_active_avg) / len(average_active_avg)}\")\n",
    "print(f\"Average active std: {sum(average_active_std) / len(average_active_std)}\")\n",
    "print(f\"Average vanilla avg: {sum(average_vanilla_avg) / len(average_vanilla_avg)}\")\n",
    "print(f\"Average vanilla std: {sum(average_vanilla_std) / len(average_vanilla_std)}\")\n"
   ]
  }
 ],
 "metadata": {
  "kernelspec": {
   "display_name": "EAIS",
   "language": "python",
   "name": "python3"
  },
  "language_info": {
   "codemirror_mode": {
    "name": "ipython",
    "version": 3
   },
   "file_extension": ".py",
   "mimetype": "text/x-python",
   "name": "python",
   "nbconvert_exporter": "python",
   "pygments_lexer": "ipython3",
   "version": "3.10.15"
  }
 },
 "nbformat": 4,
 "nbformat_minor": 2
}
